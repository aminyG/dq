{
  "nbformat": 4,
  "nbformat_minor": 0,
  "metadata": {
    "colab": {
      "provenance": [],
      "authorship_tag": "ABX9TyOeBjuXfgZ/uiO8bqOaARK1",
      "include_colab_link": true
    },
    "kernelspec": {
      "name": "python3",
      "display_name": "Python 3"
    },
    "language_info": {
      "name": "python"
    }
  },
  "cells": [
    {
      "cell_type": "markdown",
      "metadata": {
        "id": "view-in-github",
        "colab_type": "text"
      },
      "source": [
        "<a href=\"https://colab.research.google.com/github/aminyG/dq/blob/main/yg_ke3.ipynb\" target=\"_parent\"><img src=\"https://colab.research.google.com/assets/colab-badge.svg\" alt=\"Open In Colab\"/></a>"
      ]
    },
    {
      "cell_type": "code",
      "execution_count": 3,
      "metadata": {
        "colab": {
          "base_uri": "https://localhost:8080/"
        },
        "id": "Ftvzco-yKz9T",
        "outputId": "72884081-e0c3-4df1-8458-6b07c6874250"
      },
      "outputs": [
        {
          "output_type": "stream",
          "name": "stdout",
          "text": [
            "Pendapatan Total Aksara: 8750000\n",
            "Pendapatan Total Senja: 15000000\n"
          ]
        }
      ],
      "source": [
        "# Definisikan class Karyawan berikut dengan attribut dan fungsinya\n",
        "class Karyawan:\n",
        "    nama_perusahaan = 'ABC'\n",
        "    insentif_lembur = 250000\n",
        "    def __init__(self, nama, usia, pendapatan):\n",
        "        self.nama = nama\n",
        "        self.usia = usia\n",
        "        self.pendapatan = pendapatan\n",
        "        self.pendapatan_tambahan = 0\n",
        "    def lembur(self):\n",
        "        self.pendapatan_tambahan += self.insentif_lembur\n",
        "    def tambahan_proyek(self, insentif_proyek):\n",
        "    \tself.pendapatan_tambahan += insentif_proyek\n",
        "    def total_pendapatan(self):\n",
        "    \treturn self.pendapatan + self.pendapatan_tambahan\n",
        "# Buat object dari karwayan bernama Aksara dan Senja\n",
        "aksara = Karyawan('Aksara', 25, 8500000)\n",
        "senja = Karyawan('Senja', 28, 12500000)\n",
        "# Aksara melaksanakan lembur\n",
        "aksara.lembur()\n",
        "# Senja memiliki proyek tambahan\n",
        "senja.tambahan_proyek(2500000)\n",
        "# Cetak pendapatan total Aksara dan Senja\n",
        "print('Pendapatan Total Aksara: ' + str(aksara.total_pendapatan()))\n",
        "print('Pendapatan Total Senja: ' +str(senja.total_pendapatan()))"
      ]
    },
    {
      "cell_type": "code",
      "source": [
        "# Definisikan class Karyawan\n",
        "class Karyawan:\n",
        "    def __init__(self, nama, usia, pendapatan, insentif_lembur): \n",
        "        self.nama = nama\n",
        "        self.usia = usia\n",
        "        self.pendapatan = pendapatan \n",
        "        self.pendapatan_tambahan = 0\n",
        "        self.insentif_lembur = insentif_lembur\n",
        "    def lembur(self):\n",
        "        self.pendapatan_tambahan += self.insentif_lembur \n",
        "    def tambahan_proyek(self, jumlah_tambahan):\n",
        "        self.pendapatan_tambahan += jumlah_tambahan \n",
        "    def total_pendapatan(self):\n",
        "        return self.pendapatan + self.pendapatan_tambahan\n",
        "\n",
        "# Definisikan class Perusahaan\n",
        "class Perusahaan:\n",
        "    def __init__(self, nama, alamat, nomor_telepon): \n",
        "        self.nama = nama\n",
        "        self.alamat = alamat \n",
        "        self.nomor_telepon = nomor_telepon\n",
        "        self.list_karyawan = []\n",
        "\n",
        "    def aktifkan_karyawan(self, karyawan): \n",
        "        self.list_karyawan.append(karyawan)\n",
        "\n",
        "    def nonaktifkan_karyawan(self, nama_karyawan): \n",
        "        karyawan_nonaktif = None\n",
        "        for karyawan in self.list_karyawan:\n",
        "            if karyawan.nama == nama_karyawan: \n",
        "                karyawan_nonaktif = karyawan\n",
        "                break\n",
        "        if karyawan_nonaktif is not None: \n",
        "            self.list_karyawan.remove(karyawan_nonaktif)\n"
      ],
      "metadata": {
        "id": "L9rq7iw-P2cS"
      },
      "execution_count": 4,
      "outputs": []
    },
    {
      "cell_type": "markdown",
      "source": [
        "Encapsulation pada Python – Part 2\n",
        "Pada contoh di atas, terlihat bahwa atribut nama pada setiap objek dapat diakses secara bebas di luar scope dari sebuah class. Agar suatu properti ataupun fungsi dari sebuah class tidak dapat diakses secara bebas di luar scope milik suatu class, aku dapat mendefinisikan access modifier (level akses) saat sebuah atribut/fungsi didefinisikan.\n",
        "\n",
        "Terdapat 2 macam access modifier dalam Python, yakni.\n",
        "\n",
        "Public access: dapat aku definisikan dengan secara langsung menuliskan nama dari atribut/ fungsi. Dalam sebuah objek, atribut/fungsi yang bersifat public access dapat diakses di luar scope sebuah class\n",
        "Private access: dapat aku definisikan dengan menambahkan double underscore (__) sebelum menuliskan nama dari atribut/fungsi. Dalam sebuah objek, atribut/fungsi yang bersifat private access hanya dapat diakses di dalam scope sebuah class.\n",
        "\n",
        "Tugas:\n",
        "Untuk memperkuat pemahamanku terkait konsep enkapsulasi dalam paradigma OO, aku menggunakan contoh syntax dan mengetiknya pada live code editor:\n",
        "\n",
        "\n",
        "\n",
        "Pada potongan kode di atas, atribut nama_perusahaan bersifat public yang mengartikan bahwa aku dapat mengakses atribut ini di luar scope class Karyawan.\n",
        "\n",
        "\n",
        "\n",
        "tidak akan menyebabkan error dan menghasilkan output: ABC\n",
        "\n",
        " \n",
        "\n",
        "Kemudian, atribut __nama, __usia, __pendapatan_tambahan, __insentif_lembur dan pendapatan bersifat private sehingga atribut ini hanya dapat diakses di dalam scope class Karyawan.\n",
        "\n",
        "Saat aku mencoba mengakses atribut-atribut ini di luar scope class Karyawan, Python akan mengembalikan error yang menyatakan bahwa class Karyawan tidak memiliki atribut tersebut. Sebagai contoh,\n",
        "\n",
        "\n",
        "\n",
        "akan menyebabkan error yang menyatakan bahwa objek Karyawan tidak memiliki atribut  __nama.\n",
        "\n",
        "\n",
        "\n",
        " \n",
        "\n",
        " \n",
        "\n",
        "Klik tombol  untuk melanjutkan."
      ],
      "metadata": {
        "id": "rpyeK2NVXgIG"
      }
    },
    {
      "cell_type": "code",
      "source": [
        "from google.colab import drive\n",
        "drive.mount('/content/drive')"
      ],
      "metadata": {
        "id": "AmtRCdFjXoF5"
      },
      "execution_count": null,
      "outputs": []
    },
    {
      "cell_type": "code",
      "source": [
        "# Definisikan class Karyawan\n",
        "class Karyawan: \n",
        "    nama_perusahaan = 'ABC' \n",
        "    __insentif_lembur = 250000\n",
        "    def __init__(self, nama, usia, pendapatan): \n",
        "        self.__nama = nama\n",
        "        self.__usia = usia \n",
        "        self.__pendapatan = pendapatan \n",
        "        self.__pendapatan_tambahan = 0\n",
        "    def lembur(self):\n",
        "        self.__pendapatan_tambahan += self.__insentif_lembur \n",
        "    def tambahan_proyek(self, insentif_proyek):\n",
        "        self.__pendapatan_tambahan +=insentif_proyek \n",
        "    def total_pendapatan(self):\n",
        "        return self.__pendapatan + self.__pendapatan_tambahan\n",
        "# Buat objek karyawan bernama Aksara\n",
        "aksara = Karyawan('Aksara', 25, 8500000)\n",
        "# Akses ke attribute class Karyawan\n",
        "print(aksara.__class__.nama_perusahaan)\n",
        "# Akan menimbulkan error ketika di run\n",
        "print(aksara.__nama)"
      ],
      "metadata": {
        "id": "BTv491MzXe1K"
      },
      "execution_count": null,
      "outputs": []
    }
  ]
}