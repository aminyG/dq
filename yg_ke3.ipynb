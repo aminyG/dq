{
  "nbformat": 4,
  "nbformat_minor": 0,
  "metadata": {
    "colab": {
      "provenance": [],
      "authorship_tag": "ABX9TyOhlDMzdNUCvrRtq/MMwNgB",
      "include_colab_link": true
    },
    "kernelspec": {
      "name": "python3",
      "display_name": "Python 3"
    },
    "language_info": {
      "name": "python"
    }
  },
  "cells": [
    {
      "cell_type": "markdown",
      "metadata": {
        "id": "view-in-github",
        "colab_type": "text"
      },
      "source": [
        "<a href=\"https://colab.research.google.com/github/aminyG/dq/blob/main/yg_ke3.ipynb\" target=\"_parent\"><img src=\"https://colab.research.google.com/assets/colab-badge.svg\" alt=\"Open In Colab\"/></a>"
      ]
    },
    {
      "cell_type": "code",
      "execution_count": null,
      "metadata": {
        "colab": {
          "base_uri": "https://localhost:8080/"
        },
        "id": "Ftvzco-yKz9T",
        "outputId": "72884081-e0c3-4df1-8458-6b07c6874250"
      },
      "outputs": [
        {
          "output_type": "stream",
          "name": "stdout",
          "text": [
            "Pendapatan Total Aksara: 8750000\n",
            "Pendapatan Total Senja: 15000000\n"
          ]
        }
      ],
      "source": [
        "# Definisikan class Karyawan berikut dengan attribut dan fungsinya\n",
        "class Karyawan:\n",
        "    nama_perusahaan = 'ABC'\n",
        "    insentif_lembur = 250000\n",
        "    def __init__(self, nama, usia, pendapatan):\n",
        "        self.nama = nama\n",
        "        self.usia = usia\n",
        "        self.pendapatan = pendapatan\n",
        "        self.pendapatan_tambahan = 0\n",
        "    def lembur(self):\n",
        "        self.pendapatan_tambahan += self.insentif_lembur\n",
        "    def tambahan_proyek(self, insentif_proyek):\n",
        "    \tself.pendapatan_tambahan += insentif_proyek\n",
        "    def total_pendapatan(self):\n",
        "    \treturn self.pendapatan + self.pendapatan_tambahan\n",
        "# Buat object dari karwayan bernama Aksara dan Senja\n",
        "aksara = Karyawan('Aksara', 25, 8500000)\n",
        "senja = Karyawan('Senja', 28, 12500000)\n",
        "# Aksara melaksanakan lembur\n",
        "aksara.lembur()\n",
        "# Senja memiliki proyek tambahan\n",
        "senja.tambahan_proyek(2500000)\n",
        "# Cetak pendapatan total Aksara dan Senja\n",
        "print('Pendapatan Total Aksara: ' + str(aksara.total_pendapatan()))\n",
        "print('Pendapatan Total Senja: ' +str(senja.total_pendapatan()))"
      ]
    },
    {
      "cell_type": "code",
      "source": [
        "# Definisikan class Karyawan\n",
        "class Karyawan:\n",
        "    def __init__(self, nama, usia, pendapatan, insentif_lembur): \n",
        "        self.nama = nama\n",
        "        self.usia = usia\n",
        "        self.pendapatan = pendapatan \n",
        "        self.pendapatan_tambahan = 0\n",
        "        self.insentif_lembur = insentif_lembur\n",
        "    def lembur(self):\n",
        "        self.pendapatan_tambahan += self.insentif_lembur \n",
        "    def tambahan_proyek(self, jumlah_tambahan):\n",
        "        self.pendapatan_tambahan += jumlah_tambahan \n",
        "    def total_pendapatan(self):\n",
        "        return self.pendapatan + self.pendapatan_tambahan\n",
        "\n",
        "# Definisikan class Perusahaan\n",
        "class Perusahaan:\n",
        "    def __init__(self, nama, alamat, nomor_telepon): \n",
        "        self.nama = nama\n",
        "        self.alamat = alamat \n",
        "        self.nomor_telepon = nomor_telepon\n",
        "        self.list_karyawan = []\n",
        "\n",
        "    def aktifkan_karyawan(self, karyawan): \n",
        "        self.list_karyawan.append(karyawan)\n",
        "\n",
        "    def nonaktifkan_karyawan(self, nama_karyawan): \n",
        "        karyawan_nonaktif = None\n",
        "        for karyawan in self.list_karyawan:\n",
        "            if karyawan.nama == nama_karyawan: \n",
        "                karyawan_nonaktif = karyawan\n",
        "                break\n",
        "        if karyawan_nonaktif is not None: \n",
        "            self.list_karyawan.remove(karyawan_nonaktif)\n"
      ],
      "metadata": {
        "id": "L9rq7iw-P2cS"
      },
      "execution_count": null,
      "outputs": []
    },
    {
      "cell_type": "markdown",
      "source": [
        "Encapsulation pada Python – Part 2\n",
        "Pada contoh di atas, terlihat bahwa atribut nama pada setiap objek dapat diakses secara bebas di luar scope dari sebuah class. Agar suatu properti ataupun fungsi dari sebuah class tidak dapat diakses secara bebas di luar scope milik suatu class, aku dapat mendefinisikan access modifier (level akses) saat sebuah atribut/fungsi didefinisikan.\n",
        "\n",
        "Terdapat 2 macam access modifier dalam Python, yakni.\n",
        "\n",
        "Public access: dapat aku definisikan dengan secara langsung menuliskan nama dari atribut/ fungsi. Dalam sebuah objek, atribut/fungsi yang bersifat public access dapat diakses di luar scope sebuah class\n",
        "Private access: dapat aku definisikan dengan menambahkan double underscore (__) sebelum menuliskan nama dari atribut/fungsi. Dalam sebuah objek, atribut/fungsi yang bersifat private access hanya dapat diakses di dalam scope sebuah class.\n",
        "\n",
        "Tugas:\n",
        "Untuk memperkuat pemahamanku terkait konsep enkapsulasi dalam paradigma OO, aku menggunakan contoh syntax dan mengetiknya pada live code editor:\n",
        "\n",
        "\n",
        "\n",
        "Pada potongan kode di atas, atribut nama_perusahaan bersifat public yang mengartikan bahwa aku dapat mengakses atribut ini di luar scope class Karyawan.\n",
        "\n",
        "\n",
        "\n",
        "tidak akan menyebabkan error dan menghasilkan output: ABC\n",
        "\n",
        " \n",
        "\n",
        "Kemudian, atribut __nama, __usia, __pendapatan_tambahan, __insentif_lembur dan pendapatan bersifat private sehingga atribut ini hanya dapat diakses di dalam scope class Karyawan.\n",
        "\n",
        "Saat aku mencoba mengakses atribut-atribut ini di luar scope class Karyawan, Python akan mengembalikan error yang menyatakan bahwa class Karyawan tidak memiliki atribut tersebut. Sebagai contoh,\n",
        "\n",
        "\n",
        "\n",
        "akan menyebabkan error yang menyatakan bahwa objek Karyawan tidak memiliki atribut  __nama.\n",
        "\n",
        "\n",
        "\n",
        " \n",
        "\n",
        " \n",
        "\n",
        "Klik tombol  untuk melanjutkan."
      ],
      "metadata": {
        "id": "rpyeK2NVXgIG"
      }
    },
    {
      "cell_type": "code",
      "source": [
        "from google.colab import drive\n",
        "drive.mount('/content/drive')"
      ],
      "metadata": {
        "id": "AmtRCdFjXoF5"
      },
      "execution_count": null,
      "outputs": []
    },
    {
      "cell_type": "code",
      "source": [
        "# Definisikan class Karyawan\n",
        "class Karyawan: \n",
        "    nama_perusahaan = 'ABC' \n",
        "    __insentif_lembur = 250000\n",
        "    def __init__(self, nama, usia, pendapatan): \n",
        "        self.__nama = nama\n",
        "        self.__usia = usia \n",
        "        self.__pendapatan = pendapatan \n",
        "        self.__pendapatan_tambahan = 0\n",
        "    def lembur(self):\n",
        "        self.__pendapatan_tambahan += self.__insentif_lembur \n",
        "    def tambahan_proyek(self, insentif_proyek):\n",
        "        self.__pendapatan_tambahan +=insentif_proyek \n",
        "    def total_pendapatan(self):\n",
        "        return self.__pendapatan + self.__pendapatan_tambahan\n",
        "# Buat objek karyawan bernama Aksara\n",
        "aksara = Karyawan('Aksara', 25, 8500000)\n",
        "# Akses ke attribute class Karyawan\n",
        "print(aksara.__class__.nama_perusahaan)\n",
        "# Akan menimbulkan error ketika di run\n",
        "print(aksara.__nama)"
      ],
      "metadata": {
        "id": "BTv491MzXe1K"
      },
      "execution_count": null,
      "outputs": []
    },
    {
      "cell_type": "markdown",
      "source": [
        "Inheritance pada Python – Part 1\n",
        "Inheritance adalah salah satu mekanisme di konsep OO yang mengizinkan aku untuk mendefinisikan sebuah class baru berdasarkan class yang sebelumnya telah dideklarasikan.\n",
        "\n",
        "Melalui konsep inheritance, sebuah class baru dapat memiliki atribut dan fungsi pada class yang sebelumnya telah didefinisikan. Pada konsep inheritance, atribut/fungsi yang akan diwariskan hanyalah atribut/fungsi dengan access modifier public, atribut/fungsi dengan access modifier private tidak akan diturunkan.\n",
        "\n",
        "Tugas:\n",
        "Definisikan class Karyawan pada Live Code Editor:\n",
        "\n",
        "\n",
        "\n",
        "melakukan inheritance (menurunkan seluruh atribut dan fungsi dari class Karyawan) ke class AnalisData\n",
        "\n",
        "\n",
        "\n",
        "melakukan inheritance (menurunkan seluruh atribut dan fungsi dari class Karyawan) ke class IlmuwanData\n",
        "\n",
        "\n",
        "\n",
        "objek AnalisData dapat mengakses fungsi lembur milik class Karyawan\n",
        "\n",
        "\n",
        "\n",
        "akan menghasilkan output: 8750000\n",
        "\n",
        "Selanjutnya,\n",
        "\n",
        "objek IlmuwanData dapat mengakses fungsi tambahan_proyek milik class Karyawan\n",
        "\n",
        "\n",
        "\n",
        "akan menghasilkan output: 15000000\n",
        "\n",
        " \n",
        "\n",
        "Penjelasan:\n",
        "Melalui potongan kode di atas, aku telah menerapkan konsep inheritance. Melalui konsep inheritance class AnalisData dan IlmuwanData akan memiliki setiap atribut dan fungsi yang dimiliki oleh class Karyawan (Hal ini dikarenakan seluruh atribut dan fungsi dari class Karyawan bersifat public).\n",
        "\n",
        "Pada konsep inheritance, class AnalisData dan class IlmuwanData disebut sebagai child class dari class Karyawan; sehingga class Karyawan dapat disebut sebagai parent class dari class AnalisData dan IlmuwanData.\n",
        "\n",
        "Suatu child class dapat mengakses atribut ataupun fungsi yang dimiliki oleh parent class dengan menggunakan fungsi super(). Pada contoh di atas, fungsi super() digunakan oleh child class (AnalisData dan IlmuwanData) untuk mengakses constructor yang dimiliki oleh parent class (Karyawan).\n",
        "\n",
        "Catatan: Sebenarnya, aku tidak perlu mendefinisikan kembali fungsi (termasuk constructor) ataupun properti yang memiliki public access modifier di sebuah child class. Python akan secara otomatis mewariskan seluruh fungsi dan properti dengan public access modifier ke sebuah child class. Contoh potongan kode di atas hanya diperkenankan untuk mencontohkan penggunaan fungsi super().\n",
        "\n",
        " \n",
        "\n",
        " \n",
        "\n",
        "Klik tombol  untuk melanjutkan."
      ],
      "metadata": {
        "id": "9ledC1j7YwNO"
      }
    },
    {
      "cell_type": "code",
      "source": [
        "# Definisikan class Karyawan (sebagai base class)\n",
        "class Karyawan: \n",
        "    nama_perusahaan = 'ABC' \n",
        "    insentif_lembur = 250000\n",
        "    def __init__(self, nama, usia, pendapatan): \n",
        "        self.nama = nama\n",
        "        self.usia = usia \n",
        "        self.pendapatan = pendapatan \n",
        "        self.pendapatan_tambahan = 0\n",
        "    def lembur(self):\n",
        "        self.pendapatan_tambahan += self.insentif_lembur \n",
        "    def tambahan_proyek(self, insentif_proyek):\n",
        "        self.pendapatan_tambahan += insentif_proyek \n",
        "    def total_pendapatan(self):\n",
        "        return self.pendapatan + self.pendapatan_tambahan\n",
        "# Buat class turunan (sebagai inherit class) dari class karyawan, \n",
        "# yaitu class AnalisData\n",
        "class AnalisData(Karyawan):\n",
        "    def __init__(self, nama, usia, pendapatan):\n",
        "    # melakukan pemanggilan konstruktur class Karyawan \n",
        "        super().__init__(nama, usia, pendapatan)\n",
        "# Buat kembali class turunan (sebagai inherit class) dari class karyawan,  \n",
        "# yaitu class IlmuwanData\n",
        "class IlmuwanData(Karyawan):\n",
        "    def __init__(self, nama, usia, pendapatan):\n",
        "        # melakukan pemanggilan konstruktur class Karyawan \n",
        "        super().__init__(nama, usia, pendapatan)\n",
        "# Buat objek karyawan yang bekerja sebagai AnalisData\n",
        "aksara = AnalisData('Aksara', 25, 8500000)\n",
        "aksara.lembur()\n",
        "print(aksara.total_pendapatan())\n",
        "# Buat objek karyawan yang bekerja sebagai IlmuwanData\n",
        "senja = IlmuwanData('Senja', 28, 13000000)\n",
        "senja.tambahan_proyek(2000000)\n",
        "print(senja.total_pendapatan())"
      ],
      "metadata": {
        "id": "2gXLJTVaY0Lp"
      },
      "execution_count": null,
      "outputs": []
    },
    {
      "cell_type": "markdown",
      "source": [
        "Inheritance pada Python – Part 2\n",
        "Pada bagian pertama aku telah mempelajari bagaimana child class mewarisi fungsi/atribut dari parent class dengan menggunakan fungsi super(). Melalui konsep inheritance, child class dapat memodifikasi atribut/ fungsi yang diwarisi oleh sebuah parent class dengan mendefinisikan ulang atribut/ fungsi menggunakan nama yang sama. \n",
        "\n",
        "Tugas:\n",
        "Aku mencoba contoh berikut dengan Live Code Editor\n",
        "\n",
        "\n",
        "\n",
        "\n",
        "\n",
        "\n",
        "\n",
        "Fungsi lembur pada objek aksara sebagai bagian dari class AnalisData akan menambahkan total_pendapatan milik objek sebesar 250000 mengikuti insentif_lembur milik class Karyawan\n",
        "\n",
        "\n",
        "\n",
        "akan menghasilkan output: 8750000\n",
        "\n",
        "Selanjutnya,\n",
        "\n",
        "fungsi lembur pada objek senja sebagai bagian dari class IlmuwanData akan menambahkan total_pendapatan milik objek sebesar 500000 dikarenakan class IlmuwanData telah mendefinisikan kembali nilai insentif lembur menjadi 500000\n",
        "\n",
        "\n",
        "\n",
        "akan menghasilkan output: 13500000\n",
        "\n",
        " \n",
        "\n",
        " \n",
        "\n",
        "Klik tombol  untuk melanjutkan."
      ],
      "metadata": {
        "id": "1-WsyP0DaRjO"
      }
    },
    {
      "cell_type": "code",
      "source": [
        "# Definisikan class Karyawan (sebagai base class)\n",
        "class Karyawan: \n",
        "    nama_perusahaan = 'ABC' \n",
        "    insentif_lembur = 250000\n",
        "    def __init__(self, nama, usia, pendapatan): \n",
        "        self.nama = nama\n",
        "        self.usia = usia \n",
        "        self.pendapatan = pendapatan \n",
        "        self.pendapatan_tambahan = 0\n",
        "    def lembur(self):\n",
        "        self.pendapatan_tambahan += self.insentif_lembur \n",
        "    def tambahan_proyek(self, insentif_proyek):\n",
        "        self.pendapatan_tambahan += insentif_proyek \n",
        "    def total_pendapatan(self):\n",
        "        return self.pendapatan + self.pendapatan_tambahan\n",
        "# Buat class turunan (sebagai inherit class) dari class karyawan, \n",
        "# yaitu class AnalisData\n",
        "class AnalisData(Karyawan):\n",
        "    def __init__(self, nama, usia, pendapatan):\n",
        "    # melakukan pemanggilan konstruktur class Karyawan \n",
        "        super().__init__(nama, usia, pendapatan)\n",
        "# Buat kembali class turunan (sebagai inherit class) dari class karyawan,  \n",
        "# yaitu class IlmuwanData\n",
        "class IlmuwanData(Karyawan):\n",
        "    # mengubah atribut insentif_lembur yang digunakan pada fungsi lembur()\n",
        "    insentif_lembur = 500000\n",
        "    def __init__(self, nama, usia, pendapatan): \n",
        "        super().__init__(nama, usia, pendapatan)\n",
        "# Buat objek karyawan yang bekerja sebagai AnalisData\n",
        "aksara = AnalisData('Aksara', 25, 8500000)\n",
        "aksara.lembur()\n",
        "print(aksara.total_pendapatan())\n",
        "# Buat objek karyawan yang bekerja sebagai IlmuwanData\n",
        "senja = IlmuwanData('Senja', 28, 13000000)\n",
        "senja.lembur()\n",
        "print(senja.total_pendapatan())"
      ],
      "metadata": {
        "id": "kGSqr6MsZ9_H"
      },
      "execution_count": null,
      "outputs": []
    },
    {
      "cell_type": "code",
      "source": [
        "class Burung:\n",
        "    def __init__(self, nama):\n",
        "        self.nama = nama\n",
        "    def fly(self):\n",
        "        print(nama + ' sedang terbang')\n",
        "\n",
        "class Ayam(Burung):\n",
        "    def fly(self):\n",
        "        print(self.nama + ' tidak bisa terbang')\n",
        "\n",
        "anak_ayam = Ayam('Si Jago')\n",
        "anak_ayam.fly()"
      ],
      "metadata": {
        "colab": {
          "base_uri": "https://localhost:8080/"
        },
        "id": "p4e45l9zbiG1",
        "outputId": "31d66b43-e414-46e9-eeb7-ef5ff1445e2f"
      },
      "execution_count": null,
      "outputs": [
        {
          "output_type": "stream",
          "name": "stdout",
          "text": [
            "Si Jago tidak bisa terbang\n"
          ]
        }
      ]
    },
    {
      "cell_type": "code",
      "source": [
        "class Burung:\n",
        "    def __init__(self, nama):\n",
        "        self.nama = nama\n",
        "    def fly(self):\n",
        "        print(self.nama + ' sedang terbang')\n",
        "\n",
        "class Ayam(Burung):\n",
        "    pass\n",
        "\n",
        "anak_ayam = Ayam('Si Jago')\n",
        "anak_ayam.fly()\n"
      ],
      "metadata": {
        "colab": {
          "base_uri": "https://localhost:8080/"
        },
        "id": "tQbdl2UHclFJ",
        "outputId": "f80a6ce8-fef7-4a8e-da9e-56c9a99dc5fd"
      },
      "execution_count": null,
      "outputs": [
        {
          "output_type": "stream",
          "name": "stdout",
          "text": [
            "Si Jago sedang terbang\n"
          ]
        }
      ]
    },
    {
      "cell_type": "markdown",
      "source": [
        "Polymorphism pada Python - Part 1\n",
        "Selain dapat mendefinisikan ulang nilai dari atribut yang diwarisi oleh parent class seperti pada contoh di atas, aku juga dapat juga dapat mendefinisikan ulang fungsi yang telah diwarisi oleh parent class.\n",
        "\n",
        "Saat aku mendefinisikan kembali fungsi yang telah diwarisi oleh parent class, secara tidak langsung aku telah menerapkan salah satu mekanisme yang secara khusus pada paradigma OO disebut dengan istilah polymorphism.\n",
        "\n",
        "Tugas:\n",
        "Aku menerapkan Polymorphism dengan mengetik potongan kode berikut pada Live Code Editor\n",
        "\n",
        "\n",
        "\n",
        "Aku melakukan pemanggilan konstruktur class Karyawan, menerapkan polymorphism dengan mendefinisikan kembali fungsi lembur() pada AnalisData, dan menambahkan 10% tambahan pendapatan pada class AnalisData\n",
        "\n",
        "\n",
        "\n",
        "\n",
        "fungsi lembur() pada objek aksara sebagai bagian dari class AnalisData akan menambahkan total_pendapatan milik objek sebesar 850000 (10% dari pendapatannya) mengikuti definisi dari fungsi lembur() pada class AnalisData\n",
        "\n",
        "\n",
        "\n",
        "akan menghasilkan output: 9350000.\n",
        "\n",
        " \n",
        "\n",
        " \n",
        "\n",
        "Klik tombol  untuk melanjutkan."
      ],
      "metadata": {
        "id": "R0IGgK-ie3Yw"
      }
    },
    {
      "cell_type": "code",
      "source": [
        "# Definisikan class Karyawan (sebagai base class)\n",
        "class Karyawan: \n",
        "    nama_perusahaan = 'ABC' \n",
        "    insentif_lembur = 250000\n",
        "    def __init__(self, nama, usia, pendapatan): \n",
        "        self.nama = nama\n",
        "        self.usia = usia \n",
        "        self.pendapatan = pendapatan \n",
        "        self.pendapatan_tambahan = 0\n",
        "    def lembur(self):\n",
        "        self.pendapatan_tambahan += self.insentif_lembur \n",
        "    def tambahan_proyek(self, insentif_proyek):\n",
        "        self.pendapatan_tambahan += insentif_proyek \n",
        "    def total_pendapatan(self):\n",
        "        return self.pendapatan + self.pendapatan_tambahan\n",
        "# Buat class turunan (sebagai inherit class) dari class karyawan, \n",
        "# yaitu class AnalisData\n",
        "class AnalisData(Karyawan):\n",
        "    def __init__(self, nama, usia, pendapatan):\n",
        "    # melakukan pemanggilan konstruktur class Karyawan \n",
        "        super().__init__(nama, usia, pendapatan)\n",
        "    # menerapkan polymorphism dengan mendefinisikan kembali fungsi \n",
        "    # lembur() pada class AnalisData \n",
        "    def lembur(self):\n",
        "        # pendapatan tambahan pada class AnalisData sebesar\n",
        "        # 10 % dari pendapatannya.\n",
        "        self.pendapatan_tambahan += int(self.pendapatan * 0.1)\n",
        "# Buat objek karyawan yang bekerja sebagai AnalisData\n",
        "aksara = AnalisData('Aksara', 25, 8500000)\n",
        "aksara.lembur()\n",
        "print(aksara.total_pendapatan())"
      ],
      "metadata": {
        "colab": {
          "base_uri": "https://localhost:8080/"
        },
        "id": "KgbxLvate4FQ",
        "outputId": "748de000-7b00-4fb7-be73-258ba6fb915a"
      },
      "execution_count": null,
      "outputs": [
        {
          "output_type": "stream",
          "name": "stdout",
          "text": [
            "9350000\n"
          ]
        }
      ]
    },
    {
      "cell_type": "markdown",
      "source": [
        "Polymorphism pada Python - Part 2\n",
        "Pada konsep inheritance, melalui fungsi super(), selain dapat mengakses constructor milik parent class, child class juga dapat mengakses atribut/fungsi yang dimiliki oleh parent class.\n",
        "\n",
        "Tugas:\n",
        "Aku menggunakan potongan kode berikut dan mengetiknya pada Live Code Editor:\n",
        "\n",
        "\n",
        "\n",
        "\n",
        "\n",
        "\n",
        "\n",
        "akan menghasilkan output: 9175000\n",
        "\n",
        " \n",
        "\n",
        " \n",
        "\n",
        "Klik tombol  untuk melanjutkan."
      ],
      "metadata": {
        "id": "6KhWKMCbnkZx"
      }
    },
    {
      "cell_type": "code",
      "source": [
        "# Definisikan class Karyawan (sebagai base class)\n",
        "class Karyawan: \n",
        "    nama_perusahaan = 'ABC' \n",
        "    insentif_lembur = 250000\n",
        "    def __init__(self, nama, usia, pendapatan): \n",
        "        self.nama = nama\n",
        "        self.usia = usia \n",
        "        self.pendapatan = pendapatan \n",
        "        self.pendapatan_tambahan = 0\n",
        "    def lembur(self):\n",
        "        self.pendapatan_tambahan += self.insentif_lembur \n",
        "    def tambahan_proyek(self, insentif_proyek):\n",
        "        self.pendapatan_tambahan += insentif_proyek \n",
        "    def total_pendapatan(self):\n",
        "        return self.pendapatan + self.pendapatan_tambahan\n",
        "# Buat class turunan (sebagai inherit class) dari class karyawan, \n",
        "# yaitu class AnalisData\n",
        "class AnalisData(Karyawan):\n",
        "    def __init__(self, nama, usia, pendapatan): \n",
        "        super().__init__ (nama, usia, pendapatan)\n",
        "    # mendefinisikan kembali fungsi lembur() pada class AnalisData \n",
        "    def lembur(self):\n",
        "        # memanggil fungsi lembur pada class Karyawan \n",
        "        super().lembur()\n",
        "        # pendapatan tambahan pada class AnalisData sebesar\n",
        "        # 5 % dari pendapatannya.\n",
        "        self.pendapatan_tambahan += int(self.pendapatan *0.05)\n",
        "# Buat objek karyawan yang bekerja sebagai AnalisData\n",
        "aksara = AnalisData('Aksara', 25, 8500000)\n",
        "aksara.lembur()\n",
        "print(aksara.total_pendapatan())"
      ],
      "metadata": {
        "colab": {
          "base_uri": "https://localhost:8080/"
        },
        "id": "WQB36s3znnXo",
        "outputId": "807c3872-21ce-4889-aa81-f026f22f5942"
      },
      "execution_count": null,
      "outputs": [
        {
          "output_type": "stream",
          "name": "stdout",
          "text": [
            "9175000\n"
          ]
        }
      ]
    },
    {
      "cell_type": "code",
      "source": [
        "# Definisikan class Karyawan\n",
        "class Karyawan:\n",
        "    def __init__(self, nama, usia, pendapatan, insentif_lembur): \n",
        "        self.nama = nama\n",
        "        self.usia = usia \n",
        "        self.pendapatan = pendapatan \n",
        "        self.pendapatan_tambahan = 0\n",
        "        self.insentif_lembur = insentif_lembur \n",
        "    def lembur(self):\n",
        "        self.pendapatan_tambahan += self.insentif_lembur \n",
        "    def tambahan_proyek(self,jumlah_tambahan):\n",
        "        self.pendapatan_tambahan += jumlah_tambahan \n",
        "    def total_pendapatan(self):\n",
        "        return self.pendapatan + self.pendapatan_tambahan\n",
        "# Definisikan class TenagaLepas sebagai child class dari\n",
        "# class Karyawan\n",
        "class TenagaLepas(Karyawan):\n",
        "    def __init__(self, nama, usia, pendapatan):\n",
        "        super().__init__(nama, usia, pendapatan)\n",
        "    def tambahan_proyek(self, nilai_proyek):\n",
        "        super().__init__(nilai_proyek)"
      ],
      "metadata": {
        "id": "01gkhI7UuVgy"
      },
      "execution_count": null,
      "outputs": []
    },
    {
      "cell_type": "markdown",
      "source": [
        "quizz"
      ],
      "metadata": {
        "id": "WJRPibC64Obz"
      }
    },
    {
      "cell_type": "code",
      "source": [
        "# Definisikan class Karyawan sebagai parent class\n",
        "class Karyawan:\n",
        "    def __init__(self, nama, usia, pendapatan, insentif_lembur):\n",
        "        self.nama = nama\n",
        "        self.usia = usia\n",
        "        self.pendapatan = pendapatan \n",
        "        self.pendapatan_tambahan = 0\n",
        "        self.insentif_lembur = insentif_lembur\n",
        "    def lembur(self):\n",
        "        self.pendapatan_tambahan += insentif_lembur\n",
        "    def tambahan_proyek(self,jumlah_tambahan):\n",
        "        self.pendapatan_tambahan += jumlah_tambahan \n",
        "    def total_pendapatan(self):\n",
        "        return self.pendapatan + self.pendapatan_tambahan \n",
        "\n",
        "# Definisikan class TenagaLepas sebagai child class dari class Karyawan \n",
        "class TenagaLepas(Karyawan):\n",
        "    def __init__(self, nama, usia, pendapatan): \n",
        "        super().__init__(nama, usia, pendapatan, 0)\n",
        "    def tambahan_proyek(self, nilai_proyek): \n",
        "        self.pendapatan_tambahan += nilai_proyek * 0.01\n",
        "\n",
        "# Definisikan class AnalisData sebagai child class dari class Karyawan \n",
        "class AnalisData(Karyawan):\n",
        "    def __init__(self, nama, usia = 21, pendapatan = 6500000,insentif_lembur = 100000):\n",
        "        super().__init__(nama, usia, pendapatan, insentif_lembur) \n",
        "\n",
        "# Definisikan class IlmuwanData sebagai child class dari class Karyawan\n",
        "class IlmuwanData(Karyawan):\n",
        "    def __init__(self, nama, usia = 25, pendapatan = 12000000, \n",
        "                 insentif_lembur = 150000):\n",
        "        super().__init__(nama, usia, pendapatan, insentif_lembur)\n",
        "    def tambahan_proyek(self, nilai_proyek):\n",
        "        self.pendapatan_tambahan += 0.1 * nilai_proyek \n",
        "\n",
        "# Definisikan class PembersihData sebagai child class dari class TenagaLepas\n",
        "class PembersihData(TenagaLepas):\n",
        "    def __init__(self, nama, usia, pendapatan = 4000000): \n",
        "        super().__init__(nama, usia, pendapatan)\n",
        "\n",
        "# Definisikan class DokumenterTeknis sebagai child class dari class TenagaLepas\n",
        "class DokumenterTeknis(TenagaLepas):\n",
        "    def __init__(self, nama, usia, pendapatan = 2500000): \n",
        "        super().__init__(nama, usia, pendapatan)\n",
        "\n",
        "# Definisikan class Perusahaan \n",
        "class Perusahaan:\n",
        "    def __init__(self, nama, alamat, nomor_telepon): \n",
        "        self.nama = nama\n",
        "        self.alamat = alamat \n",
        "        self.nomor_telepon = nomor_telepon \n",
        "        self.list_karyawan = []\n",
        "    def aktifkan_karyawan(self, karyawan): \n",
        "        self.list_karyawan.append(karyawan)\n",
        "    def nonaktifkan_karyawan(self, nama_karyawan): \n",
        "        karyawan_nonaktif = None\n",
        "        for karyawan in self.list_karyawan:\n",
        "            if karyawan.nama == nama_karyawan: \n",
        "                karyawan_nonaktif = karyawan \n",
        "                break\n",
        "        if karyawan_nonaktif is not None: \n",
        "            self.list_karyawan.remove(karyawan_nonaktif)\n",
        "    def total_pengeluaran(self): \n",
        "        pengeluaran = 0\n",
        "        for karyawan in self.list_karyawan:\n",
        "            pengeluaran += karyawan.total_pendapatan() \n",
        "        return pengeluaran\n",
        "    def cari_karyawan(self, nama_karyawan): \n",
        "        for karyawan in self.list_karyawan:\n",
        "            if karyawan.nama == nama_karyawan: \n",
        "                return karyawan\n",
        "        return None\n",
        "\n",
        "# Create object karyawan sesuai dengan tugasnya masing-masing\n",
        "# seperti yang dinyatakan dalam tabel.\n",
        "ani = PembersihData('Ani', 25)\n",
        "budi = DokumenterTeknis('Budi', 18)\n",
        "cici = IlmuwanData('Cici')\n",
        "didi = IlmuwanData('Didi', 32, 20000000)\n",
        "efi = AnalisData('Efi')\n",
        "febi = AnalisData('Febi', 28, 12000000)\n",
        "\n",
        "# Create object perusahaan\n",
        "perusahaan = Perusahaan('ABC', 'Jl. Jendral Sudirman, Blok 11', '(021) 95812XX')\n",
        "\n",
        "# Aktifkan setiap karyawan yang telah didefinisikan\n",
        "perusahaan.aktifkan_karyawan(ani)\n",
        "perusahaan.aktifkan_karyawan(budi)\n",
        "perusahaan.aktifkan_karyawan(cici)\n",
        "perusahaan.aktifkan_karyawan(didi)\n",
        "perusahaan.aktifkan_karyawan(efi)\n",
        "perusahaan.aktifkan_karyawan(febi)\n",
        "\n",
        "# Cetak keseluruhan total pengeluaran perusahaan\n",
        "print(perusahaan.total_pengeluaran())"
      ],
      "metadata": {
        "id": "tAxqjQkt4Tj3"
      },
      "execution_count": null,
      "outputs": []
    }
  ]
}