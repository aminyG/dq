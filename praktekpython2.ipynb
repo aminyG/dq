{
  "nbformat": 4,
  "nbformat_minor": 0,
  "metadata": {
    "colab": {
      "provenance": [],
      "authorship_tag": "ABX9TyOwhnRpwQOSuEiCMY6Hxq87",
      "include_colab_link": true
    },
    "kernelspec": {
      "name": "python3",
      "display_name": "Python 3"
    },
    "language_info": {
      "name": "python"
    }
  },
  "cells": [
    {
      "cell_type": "markdown",
      "metadata": {
        "id": "view-in-github",
        "colab_type": "text"
      },
      "source": [
        "<a href=\"https://colab.research.google.com/github/aminyG/dq/blob/main/praktekpython2.ipynb\" target=\"_parent\"><img src=\"https://colab.research.google.com/assets/colab-badge.svg\" alt=\"Open In Colab\"/></a>"
      ]
    },
    {
      "cell_type": "code",
      "execution_count": 22,
      "metadata": {
        "colab": {
          "base_uri": "https://localhost:8080/"
        },
        "id": "KHG3-fDKvSXo",
        "outputId": "5b9b90a4-369f-47a4-d360-dda362d34830"
      },
      "outputs": [
        {
          "output_type": "stream",
          "name": "stdout",
          "text": [
            "[{'tanah': '70', 'bangunan': '50', 'jarak_ke_pusat': '15', 'harga': '500'}, {'tanah': '70', 'bangunan': '60', 'jarak_ke_pusat': '30', 'harga': '400'}, {'tanah': '70', 'bangunan': '60', 'jarak_ke_pusat': '55', 'harga': '300'}, {'tanah': '100', 'bangunan': '50', 'jarak_ke_pusat': '30', 'harga': '700'}, {'tanah': '100', 'bangunan': '70', 'jarak_ke_pusat': '25', 'harga': '1000'}, {'tanah': '100', 'bangunan': '70', 'jarak_ke_pusat': '50', 'harga': '650'}, {'tanah': '120', 'bangunan': '100', 'jarak_ke_pusat': '20', 'harga': '2000'}, {'tanah': '120', 'bangunan': '80', 'jarak_ke_pusat': '50', 'harga': '1200'}, {'tanah': '150', 'bangunan': '100', 'jarak_ke_pusat': '50', 'harga': '1800'}, {'tanah': '150', 'bangunan': '90', 'jarak_ke_pusat': '15', 'harga': '3000'}]\n"
          ]
        }
      ],
      "source": [
        "import requests\n",
        "from contextlib import closing\n",
        "import csv\n",
        "# STEP 1: \n",
        "# Baca file \"harga_rumah.txt\"\n",
        "url = \"https://storage.googleapis.com/dqlab-dataset/harga_rumah.txt\"\n",
        "data_harga_rumah = []\n",
        "with closing(requests.get(url, stream=True)) as r:\n",
        "    f = (line.decode('utf-8') for line in r.iter_lines())\n",
        "    data_harga_rumah = [row for row in csv.reader(f)]\n",
        "# Buat list of dict dengan nama harga rumah\n",
        "key_harga_rumah = data_harga_rumah[0]\n",
        "#key_harga_rumah = data_harga_rumah[0].replace(\"\\n\",\"\").split(\",\")\n",
        "harga_rumah = []\n",
        "for baris_harga_rumah in data_harga_rumah[1:]:\n",
        " # baris_harga_rumah = baris.replace(\"\\n\",\"\").split(\",\")\n",
        "\tdict_harga_rumah = dict()\n",
        "\tfor i in range(len(baris_harga_rumah)):\n",
        "\t\tdict_harga_rumah[key_harga_rumah[i]] = baris_harga_rumah[i]\n",
        "\tharga_rumah.append(dict_harga_rumah)\n",
        "print(harga_rumah)"
      ]
    },
    {
      "cell_type": "code",
      "source": [
        "def get_all_specified_attributes(list_of_dictionary, specified_key):\n",
        "\tlist_attributes = []\n",
        "\tfor data in list_attributes:\n",
        "\t\tattribute = data[specified_key]\n",
        "\t\tlist_attributes.append(attribute)\n",
        "\treturn list_attributes"
      ],
      "metadata": {
        "id": "SsygkTMmwHjC"
      },
      "execution_count": 23,
      "outputs": []
    },
    {
      "cell_type": "code",
      "source": [
        "def min_value(list_attributes):\n",
        "\tmin_attribute = 9999\n",
        "\tfor attr in list_attributes:\n",
        "\t\tif int(attr) < min_attribute:\n",
        "\t\t\tmin_attribute = attr\n",
        "\treturn min_attribute\n",
        "# Buat fungsi dan max_value yang menerima parameter list_attribute dan \n",
        "# mengembalikan nilai terbesar dalam list_attributes.\t\n",
        "def max_value(list_attributes):\n",
        "\tmax_attribute = -9999\n",
        "\tfor attr in list_attributes:\n",
        "\t\tif int(attr) > max_attribute:\n",
        "\t\t\tmax_attribute = attr\n",
        "\treturn max_attribute"
      ],
      "metadata": {
        "id": "ZA1dFTBY0cG6"
      },
      "execution_count": 24,
      "outputs": []
    },
    {
      "cell_type": "code",
      "source": [
        "def transform_attribute(attr, max_attr, min_attr):\n",
        "\tnilai_transformasi = (attr - min_attr) / (max_attr - min_attr)\n",
        "\treturn nilai_transformasi"
      ],
      "metadata": {
        "id": "3GSb7tSE3CdX"
      },
      "execution_count": 25,
      "outputs": []
    },
    {
      "cell_type": "code",
      "source": [
        "def data_transformation(list_of_dictionary, list_attribute_names):\n",
        "\tattr_info = {}\n",
        "\tfor attr_name in list_attribute_names:\n",
        "\t\tspecified_attributes = get_all_specified_attributes(list_of_dictionary, attr_name)\n",
        "\t\tmax_attr = max_value(specified_attributes)\n",
        "\t\tmin_attr = min_value(specified_attributes)\n",
        "\t\tattr_info[attr_name] = {'max': max_attr, 'min': min_attr}\n",
        "\t\tdata_idx = 0\n",
        "\t\twhile(data_idx < len(list_of_dictionary)):\n",
        "\t\t\tlist_of_dictionary[data_idx][attr_name] = transform_attribute(int(list_of_dictionary[data_idx][attr_name]), max_attr, min_attr)\n",
        "\t\t\tdata_idx += 1\n",
        "\treturn list_of_dictionary, attr_info"
      ],
      "metadata": {
        "id": "unBbpewZ3QVW"
      },
      "execution_count": 26,
      "outputs": []
    },
    {
      "cell_type": "code",
      "source": [
        "def transform_data(data, attr_info):\n",
        "\tfor key_name in data.keys():\n",
        "\t\tdata[key_name] = (data[key_name] - attr_info[key_name]['min']) / (attr_info[key_name]['max'] - attr_info[key_name]['min'])\n",
        "\treturn data"
      ],
      "metadata": {
        "id": "vYQBKFuo5-sK"
      },
      "execution_count": 27,
      "outputs": []
    },
    {
      "cell_type": "code",
      "source": [
        "def abs_value(value):\n",
        "\tif value < 0:\n",
        "\t\treturn -value\n",
        "\telse:\n",
        "\t\treturn value\n",
        "def price_based_on_similarity(data, list_of_data):\n",
        "\tprediksi_harga = 0\n",
        "\tperbedaan_terkecil = 999\n",
        "\tfor data_point in list_of_data:\n",
        "\t\tperbedaan= abs_value(data['tanah'] - data_point['tanah'])\n",
        "\t\tperbedaan+= abs_value(data['bangunan'] - data_point['bangunan'])\n",
        "\t\tperbedaan+= abs_value(data['jarak_ke_pusat'] - data_point['jarak_ke_pusat'])\n",
        "\t\tif perbedaan < perbedaan_terkecil:\n",
        "\t\t\tprediksi_harga = data_point['harga']\n",
        "\t\t\tperbedaan_terkecil = perbedaan\n",
        "\treturn prediksi_harga"
      ],
      "metadata": {
        "id": "hQmJ54DN6B9F"
      },
      "execution_count": 28,
      "outputs": []
    },
    {
      "cell_type": "code",
      "source": [
        "# STEP 8:\n",
        "# Hitung harga rumah yang telah ditransformasikan ke dalam variabel \n",
        "# harga_rumah berikut dengan atributnya attr_info\n",
        "harga_rumah, attr_info = data_transformation(harga_rumah,['tanah','bangunan','jarak_ke_pusat'])\n",
        "# Gunakan variabel data untuk memprediksi harga rumah\n",
        "data = {'tanah': 110, 'bangunan': 80, 'jarak_ke_pusat': 35}\n",
        "# Transformasikan data tersebut dengan dengan menggunakan attr_info yang telah \n",
        "# diperoleh yang kembali disimpan ke variabel data.\n",
        "data = transform_data(data, attr_info)\n",
        "# Hitunglah prediksi harga dari variabel data tersebut.\n",
        "harga = price_based_on_similarity(data, harga_rumah)\n",
        "print(\"Prediksi harga rumah: \", harga)"
      ],
      "metadata": {
        "colab": {
          "base_uri": "https://localhost:8080/"
        },
        "id": "utAc3wse7jK3",
        "outputId": "c5a4d98c-6b7a-48b8-ac67-952abe8bcd59"
      },
      "execution_count": 29,
      "outputs": [
        {
          "output_type": "stream",
          "name": "stdout",
          "text": [
            "Prediksi harga rumah:  1200\n"
          ]
        }
      ]
    },
    {
      "cell_type": "code",
      "source": [
        "import requests\n",
        "from contextlib import closing\n",
        "import csv\n",
        "# STEP 1: \n",
        "# Baca file \"harga_rumah.txt\"\n",
        "url = \"https://storage.googleapis.com/dqlab-dataset/harga_rumah.txt\"\n",
        "data_harga_rumah = []\n",
        "with closing(requests.get(url, stream=True)) as r:\n",
        "    f = (line.decode('utf-8') for line in r.iter_lines())\n",
        "    data_harga_rumah = [row for row in csv.reader(f)]\n",
        "# Buat list of dict dengan nama harga rumah\n",
        "key_harga_rumah = data_harga_rumah[0]\n",
        "harga_rumah = []\n",
        "for baris_harga_rumah in data_harga_rumah[1:]:\n",
        "\tdict_harga_rumah = dict()\n",
        "\tfor i in range(len(baris_harga_rumah)):\n",
        "\t\tdict_harga_rumah[key_harga_rumah[i]] = baris_harga_rumah[i]\n",
        "\tharga_rumah.append(dict_harga_rumah)\n",
        "print(harga_rumah)\n",
        "# STEP 2:\n",
        "# Buat fungsi  get_all_specified_attribute yang menerima parameter list_of_dictionary \n",
        "# (tipe data list yang berisikan sekumpulan tipe data dictionary) dan specified_key \n",
        "# (tipe data string). Fungsi akan mengembalikan sebuah list yang berisikan seluruh \n",
        "# atribut dengan kunci (key) specified_key. \n",
        "def get_all_specified_attributes(list_of_dictionary, specified_key):\n",
        "\tlist_attributes = []\n",
        "\tfor data in list_attributes:\n",
        "\t\tattribute = data[specified_key]\n",
        "\t\tlist_attributes.append(attribute)\n",
        "\treturn list_attributes\n",
        "# STEP 3: \n",
        "# Buat fungsi fungsi min_value yang menerima parameter list_attributes (berupa \n",
        "# tipe data list) dan mengembalikan nilai terkecil dalam list_attributes \n",
        "def min_value(list_attributes):\n",
        "\tmin_attribute = 9999\n",
        "\tfor attr in list_attributes:\n",
        "\t\tif int(attr) < min_attribute:\n",
        "\t\t\tmin_attribute = attr\n",
        "\treturn min_attribute\n",
        "# Buat fungsi dan max_value yang menerima parameter list_attribute dan \n",
        "# mengembalikan nilai terbesar dalam list_attributes.\t\n",
        "def max_value(list_attributes):\n",
        "\tmax_attribute = -9999\n",
        "\tfor attr in list_attributes:\n",
        "\t\tif int(attr) > max_attribute:\n",
        "\t\t\tmax_attribute = attr\n",
        "\treturn max_attribute\n",
        "# STEP 4: \n",
        "# Buat fungsi transform_attribute yang menerima parameter attr (sebuah \n",
        "# bilangan), max_attr (sebuah bilangan) dan min_attr (sebuah bilangan) \n",
        "# yang mengembalikan nilai transformasi dari sebuah attribute.\n",
        "def transform_attribute(attr, max_attr, min_attr):\n",
        "\tnilai_transformasi = (attr - min_attr) / (max_attr - min_attr)\n",
        "\treturn nilai_transformasi\n",
        "# STEP 5:\n",
        "# Buat fungsi data_transformation yang menerima parameter list_of_dictionary \n",
        "# (sebuah list yang berisikan tipe data dictionary) dan list_attribute_names \n",
        "# (sebuah list yang berisikan tipe data string) mengembalikan hasil \n",
        "# transformasi data dari list_of_dictionary berdasarkan list_attribute_names \n",
        "# dan attr_info telah dispesifikasikan.\n",
        "def data_transformation(list_of_dictionary, list_attribute_names):\n",
        "\tattr_info = {}\n",
        "\tfor attr_name in list_attribute_names:\n",
        "\t\tspecified_attributes = get_all_specified_attributes(list_of_dictionary, attr_name)\n",
        "\t\tmax_attr = max_value(specified_attributes)\n",
        "\t\tmin_attr = min_value(specified_attributes)\n",
        "\t\tattr_info[attr_name] = {'max': max_attr, 'min': min_attr}\n",
        "\t\tdata_idx = 0\n",
        "\t\twhile(data_idx < len(list_of_dictionary)):\n",
        "\t\t\tlist_of_dictionary[data_idx][attr_name] = transform_attribute(int(list_of_dictionary[data_idx][attr_name]), max_attr, min_attr)\n",
        "\t\t\tdata_idx += 1\n",
        "\treturn list_of_dictionary, attr_info\n",
        "# STEP 6:\n",
        "# Berdasarkan data baru dan attr_info ini, buat fungsi transform_data yang\n",
        "# menerima parameter data dan attr_info dan mengembalikan nilai atribut \n",
        "# dari data baru yang telah ditransformasikan.\n",
        "def transform_data(data, attr_info):\n",
        "\tfor key_name in data:\n",
        "\t\tdata[key_name] = (data[key_name] - attr_info[key_name]['min']) / (\n",
        "\t\t                  attr_info[key_name]['max'] - attr_info[key_name]['min'])\n",
        "\treturn data\n",
        "# STEP 7:\n",
        "# Buat fungsi yang digunakan untuk sistem prediksi harga berdasarkan \n",
        "# nilai kemiripan atribut, yaitu argument input data dan list_of_data!\n",
        "def abs_value(value):\n",
        "\tif value < 0:\n",
        "\t\treturn -value\n",
        "\telse:\n",
        "\t\treturn value\n",
        "def price_based_on_similarity(data, list_of_data):\n",
        "\tprediksi_harga = 0\n",
        "\tperbedaan_terkecil = 999\n",
        "\tfor data_point in list_of_data:\n",
        "\t\tperbedaan= abs_value(data['tanah'] - data_point['tanah'])\n",
        "\t\tperbedaan+= abs_value(data['bangunan'] - data_point['bangunan'])\n",
        "\t\tperbedaan+= abs_value(data['jarak_ke_pusat'] - data_point['jarak_ke_pusat'])\n",
        "\t\tif perbedaan < perbedaan_terkecil:\n",
        "\t\t\tprediksi_harga = data_point['harga']\n",
        "\t\t\tperbedaan_terkecil = perbedaan\n",
        "\treturn prediksi_harga\n",
        "# STEP 8:\n",
        "# Hitung harga rumah yang telah ditransformasikan ke dalam variabel \n",
        "# harga_rumah berikut dengan atributnya attr_info\n",
        "harga_rumah, attr_info = data_transformation(harga_rumah,\n",
        "                                             ['tanah','bangunan','jarak_ke_pusat'])\n",
        "# Gunakan variabel data untuk memprediksi harga rumah\n",
        "data = {'tanah': 110, 'bangunan': 80, 'jarak_ke_pusat': 35}\n",
        "# Transformasikan data tersebut dengan dengan menggunakan attr_info yang telah \n",
        "# diperoleh yang kembali disimpan ke variabel data.\n",
        "data = transform_data(data, attr_info)\n",
        "# Hitunglah prediksi harga dari variabel data tersebut.\n",
        "harga = price_based_on_similarity(data, harga_rumah)\n",
        "print(\"Prediksi harga rumah: \", harga)"
      ],
      "metadata": {
        "id": "zUfAxrkPBou6"
      },
      "execution_count": null,
      "outputs": []
    },
    {
      "cell_type": "code",
      "source": [
        "import requests\n",
        "from contextlib import closing\n",
        "import csv\n",
        "# STEP 1: \n",
        "# Baca file \"harga_rumah.txt\"\n",
        "url = \"https://storage.googleapis.com/dqlab-dataset/harga_rumah.txt\"\n",
        "data_harga_rumah = []\n",
        "with closing(requests.get(url, stream=True)) as r:\n",
        "    f = (line.decode('utf-8') for line in r.iter_lines())\n",
        "    data_harga_rumah = [row for row in csv.reader(f)]\n",
        "# Buat list of dict dengan nama harga rumah\n",
        "key_harga_rumah = data_harga_rumah[0]\n",
        "harga_rumah = []\n",
        "for baris_harga_rumah in data_harga_rumah[1:]:\n",
        "\tdict_harga_rumah = dict()\n",
        "\tfor i in range(len(baris_harga_rumah)):\n",
        "\t\tdict_harga_rumah[key_harga_rumah[i]] = baris_harga_rumah[i]\n",
        "\tharga_rumah.append(dict_harga_rumah)\n",
        "print(harga_rumah)\n",
        "# STEP 2:\n",
        "# Buat fungsi  get_all_specified_attribute yang menerima parameter list_of_dictionary \n",
        "# (tipe data list yang berisikan sekumpulan tipe data dictionary) dan specified_key \n",
        "# (tipe data string). Fungsi akan mengembalikan sebuah list yang berisikan seluruh \n",
        "# atribut dengan kunci (key) specified_key. \n",
        "def get_all_specified_attributes(list_of_dictionary, specified_key):\n",
        "\tlist_attributes = []\n",
        "\tfor data in list_of_dictionary:\n",
        "\t\tattribute = data[specified_key]\n",
        "\t\tlist_attributes.append(attribute)\n",
        "\treturn list_attributes\n",
        "# STEP 3: \n",
        "# Buat fungsi fungsi min_value yang menerima parameter list_attributes (berupa \n",
        "# tipe data list) dan mengembalikan nilai terkecil dalam list_attributes \n",
        "def min_value(list_attributes):\n",
        "\tmin_attribute = 9999\n",
        "\tfor attr in list_attributes:\n",
        "\t\tif int(attr) < min_attribute:\n",
        "\t\t\tmin_attribute = int(attr)\n",
        "\treturn min_attribute\n",
        "# Buat fungsi dan max_value yang menerima parameter list_attribute dan \n",
        "# mengembalikan nilai terbesar dalam list_attributes.\t\n",
        "def max_value(list_attributes):\n",
        "\tmax_attribute = -9999\n",
        "\tfor attr in list_attributes:\n",
        "\t\tif int(attr) > max_attribute:\n",
        "\t\t\tmax_attribute = int(attr)\n",
        "\treturn max_attribute\n",
        "# STEP 4: \n",
        "# Buat fungsi transform_attribute yang menerima parameter attr (sebuah \n",
        "# bilangan), max_attr (sebuah bilangan) dan min_attr (sebuah bilangan) \n",
        "# yang mengembalikan nilai transformasi dari sebuah attribute.\n",
        "def transform_attribute(attr, max_attr, min_attr):\n",
        "\tnilai_transformasi = (attr - min_attr) / (max_attr - min_attr)\n",
        "\treturn nilai_transformasi\n",
        "# STEP 5:\n",
        "# Buat fungsi data_transformation yang menerima parameter list_of_dictionary \n",
        "# (sebuah list yang berisikan tipe data dictionary) dan list_attribute_names \n",
        "# (sebuah list yang berisikan tipe data string) mengembalikan hasil \n",
        "# transformasi data dari list_of_dictionary berdasarkan list_attribute_names \n",
        "# dan attr_info telah dispesifikasikan.\n",
        "def data_transformation(list_of_dictionary, list_attribute_names):\n",
        "\tattr_info = {}\n",
        "\tfor attr_name in list_attribute_names:\n",
        "\t\tspecified_attributes = get_all_specified_attributes(list_of_dictionary, attr_name)\n",
        "\t\tmax_attr = max_value(specified_attributes)\n",
        "\t\tmin_attr = min_value(specified_attributes)\n",
        "\t\tattr_info[attr_name] = {'max': max_attr, 'min': min_attr}\n",
        "\t\tdata_idx = 0\n",
        "\t\twhile(data_idx < len(list_of_dictionary)):\n",
        "\t\t\tlist_of_dictionary[data_idx][attr_name] = transform_attribute(int(list_of_dictionary[data_idx][attr_name]), max_attr, min_attr)\n",
        "\t\t\tdata_idx += 1\n",
        "\treturn list_of_dictionary, attr_info\n",
        "# STEP 6:\n",
        "# Berdasarkan data baru dan attr_info ini, buat fungsi transform_data yang\n",
        "# menerima parameter data dan attr_info dan mengembalikan nilai atribut \n",
        "# dari data baru yang telah ditransformasikan.\n",
        "def transform_data(data, attr_info):\n",
        "\tfor key_name in data.keys():\n",
        "\t\tdata[key_name] = (data[key_name] - attr_info[key_name]['min']) / (\n",
        "\t\t                  attr_info[key_name]['max'] - attr_info[key_name]['min'])\n",
        "\treturn data\n",
        "# STEP 7:\n",
        "# Buat fungsi yang digunakan untuk sistem prediksi harga berdasarkan \n",
        "# nilai kemiripan atribut!\n",
        "def abs_value(value):\n",
        "\tif value < 0:\n",
        "\t\treturn -value\n",
        "\telse:\n",
        "\t\treturn value\n",
        "def price_based_on_similarity(data, list_of_data):\n",
        "\tprediksi_harga = 0\n",
        "\tperbedaan_terkecil = 999\n",
        "\tfor data_point in list_of_data:\n",
        "\t\tperbedaan= abs_value(data['tanah'] - data_point['tanah'])\n",
        "\t\tperbedaan+= abs_value(data['bangunan'] - data_point['bangunan'])\n",
        "\t\tperbedaan+= abs_value(data['jarak_ke_pusat'] - data_point['jarak_ke_pusat'])\n",
        "\t\tif perbedaan < perbedaan_terkecil:\n",
        "\t\t\tprediksi_harga = data_point['harga']\n",
        "\t\t\tperbedaan_terkecil = perbedaan\n",
        "\treturn prediksi_harga\n",
        "# STEP 8:\n",
        "# Hitung harga rumah yang telah ditransformasikan ke dalam variabel \n",
        "# harga_rumah berikut dengan atributnya attr_info\n",
        "harga_rumah, attr_info = data_transformation(harga_rumah,\n",
        "                                             ['tanah','bangunan','jarak_ke_pusat'])\n",
        "# Gunakan variabel data untuk memprediksi harga rumah\n",
        "data = {'tanah': 110, 'bangunan': 80, 'jarak_ke_pusat': 35}\n",
        "# Transformasikan data tersebut dengan dengan menggunakan attr_info yang telah \n",
        "# diperoleh yang kembali disimpan ke variabel data.\n",
        "data = transform_data(data, attr_info)\n",
        "# Hitunglah prediksi harga dari variabel data tersebut.\n",
        "harga = price_based_on_similarity(data, harga_rumah)\n",
        "print(\"Prediksi harga rumah: \", harga)"
      ],
      "metadata": {
        "id": "-5vwniyRDJzx"
      },
      "execution_count": null,
      "outputs": []
    }
  ]
}